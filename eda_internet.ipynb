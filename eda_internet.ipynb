{
 "cells": [
  {
   "attachments": {},
   "cell_type": "markdown",
   "metadata": {},
   "source": [
    "### Objetivo\n",
    "\n",
    "Se requiere realizar un dahsboard en PowerBi analizando la evolución, crecimiento de internet, usuarios, abonados, etc, en Argentina y sus causas\n"
   ]
  },
  {
   "attachments": {},
   "cell_type": "markdown",
   "metadata": {},
   "source": [
    "### Step 1: Import and read data\n",
    "Se realiza EDA para revisión de 2 datasets\n",
    "\n",
    "\"Accesos a Internet por tipo de tecnologías\"\n",
    "\n",
    "\"Penetración de Internet en Argentina cada 100 hogares\""
   ]
  },
  {
   "cell_type": "code",
   "execution_count": 127,
   "metadata": {},
   "outputs": [],
   "source": [
    "import pandas as pd             # Análisis de datos\n",
    "import numpy as np              # Computación numérica\n",
    "import matplotlib.pylab as plt  # Visualización de datos\n",
    "import seaborn as sns           # Visualización de datos\n",
    "plt.style.use('ggplot')         # Estilo de gráfico 'ggplot'"
   ]
  },
  {
   "cell_type": "code",
   "execution_count": 128,
   "metadata": {},
   "outputs": [],
   "source": [
    "df_tecnologias = pd.read_csv('Datasets\\Internet_Accesos-por-tecnologia.csv')\n",
    "df_penetracion = pd.read_csv('Datasets\\Internet_Penetracion.csv')"
   ]
  },
  {
   "attachments": {},
   "cell_type": "markdown",
   "metadata": {},
   "source": [
    "### Step 2: Data Understanding\n",
    "Dataframe Shape. Head and tail. dtypes."
   ]
  },
  {
   "cell_type": "code",
   "execution_count": 129,
   "metadata": {},
   "outputs": [],
   "source": [
    "#df_tecnologias.shape\n",
    "#df_penetracion.shape"
   ]
  },
  {
   "cell_type": "code",
   "execution_count": 130,
   "metadata": {},
   "outputs": [
    {
     "data": {
      "text/html": [
       "<div>\n",
       "<style scoped>\n",
       "    .dataframe tbody tr th:only-of-type {\n",
       "        vertical-align: middle;\n",
       "    }\n",
       "\n",
       "    .dataframe tbody tr th {\n",
       "        vertical-align: top;\n",
       "    }\n",
       "\n",
       "    .dataframe thead th {\n",
       "        text-align: right;\n",
       "    }\n",
       "</style>\n",
       "<table border=\"1\" class=\"dataframe\">\n",
       "  <thead>\n",
       "    <tr style=\"text-align: right;\">\n",
       "      <th></th>\n",
       "      <th>Año</th>\n",
       "      <th>Trimestre</th>\n",
       "      <th>Provincia</th>\n",
       "      <th>ADSL</th>\n",
       "      <th>Cablemodem</th>\n",
       "      <th>Fibra óptica</th>\n",
       "      <th>Wireless</th>\n",
       "      <th>Otros</th>\n",
       "      <th>Total</th>\n",
       "    </tr>\n",
       "  </thead>\n",
       "  <tbody>\n",
       "    <tr>\n",
       "      <th>0</th>\n",
       "      <td>2022</td>\n",
       "      <td>2</td>\n",
       "      <td>Buenos Aires</td>\n",
       "      <td>350.652</td>\n",
       "      <td>2.719.613</td>\n",
       "      <td>1.399.043</td>\n",
       "      <td>126.847</td>\n",
       "      <td>71.028</td>\n",
       "      <td>4.667.183</td>\n",
       "    </tr>\n",
       "    <tr>\n",
       "      <th>1</th>\n",
       "      <td>2022</td>\n",
       "      <td>2</td>\n",
       "      <td>Capital Federal</td>\n",
       "      <td>145.491</td>\n",
       "      <td>1.232.226</td>\n",
       "      <td>121.506</td>\n",
       "      <td>5.757</td>\n",
       "      <td>31.791</td>\n",
       "      <td>1.536.771</td>\n",
       "    </tr>\n",
       "    <tr>\n",
       "      <th>2</th>\n",
       "      <td>2022</td>\n",
       "      <td>2</td>\n",
       "      <td>Catamarca</td>\n",
       "      <td>11.928</td>\n",
       "      <td>9.430</td>\n",
       "      <td>42.087</td>\n",
       "      <td>1.329</td>\n",
       "      <td>2.234</td>\n",
       "      <td>67.008</td>\n",
       "    </tr>\n",
       "    <tr>\n",
       "      <th>3</th>\n",
       "      <td>2022</td>\n",
       "      <td>2</td>\n",
       "      <td>Chaco</td>\n",
       "      <td>29.552</td>\n",
       "      <td>61.284</td>\n",
       "      <td>42.194</td>\n",
       "      <td>8.178</td>\n",
       "      <td>2.356</td>\n",
       "      <td>143.564</td>\n",
       "    </tr>\n",
       "    <tr>\n",
       "      <th>4</th>\n",
       "      <td>2022</td>\n",
       "      <td>2</td>\n",
       "      <td>Chubut</td>\n",
       "      <td>45.377</td>\n",
       "      <td>69.242</td>\n",
       "      <td>9.574</td>\n",
       "      <td>29.784</td>\n",
       "      <td>8.828</td>\n",
       "      <td>162.805</td>\n",
       "    </tr>\n",
       "  </tbody>\n",
       "</table>\n",
       "</div>"
      ],
      "text/plain": [
       "    Año Trimestre        Provincia     ADSL Cablemodem Fibra óptica  Wireless  \\\n",
       "0  2022         2     Buenos Aires  350.652  2.719.613    1.399.043   126.847   \n",
       "1  2022         2  Capital Federal  145.491  1.232.226      121.506     5.757   \n",
       "2  2022         2        Catamarca   11.928      9.430       42.087     1.329   \n",
       "3  2022         2            Chaco   29.552     61.284       42.194     8.178   \n",
       "4  2022         2           Chubut   45.377     69.242        9.574    29.784   \n",
       "\n",
       "    Otros      Total  \n",
       "0  71.028  4.667.183  \n",
       "1  31.791  1.536.771  \n",
       "2   2.234     67.008  \n",
       "3   2.356    143.564  \n",
       "4   8.828    162.805  "
      ]
     },
     "execution_count": 130,
     "metadata": {},
     "output_type": "execute_result"
    }
   ],
   "source": [
    "df_tecnologias.head()\n"
   ]
  },
  {
   "cell_type": "code",
   "execution_count": 131,
   "metadata": {},
   "outputs": [
    {
     "data": {
      "text/html": [
       "<div>\n",
       "<style scoped>\n",
       "    .dataframe tbody tr th:only-of-type {\n",
       "        vertical-align: middle;\n",
       "    }\n",
       "\n",
       "    .dataframe tbody tr th {\n",
       "        vertical-align: top;\n",
       "    }\n",
       "\n",
       "    .dataframe thead th {\n",
       "        text-align: right;\n",
       "    }\n",
       "</style>\n",
       "<table border=\"1\" class=\"dataframe\">\n",
       "  <thead>\n",
       "    <tr style=\"text-align: right;\">\n",
       "      <th></th>\n",
       "      <th>Año</th>\n",
       "      <th>Trimestre</th>\n",
       "      <th>Provincia</th>\n",
       "      <th>Accesos por cada 100 hogares</th>\n",
       "    </tr>\n",
       "  </thead>\n",
       "  <tbody>\n",
       "    <tr>\n",
       "      <th>0</th>\n",
       "      <td>2022</td>\n",
       "      <td>1</td>\n",
       "      <td>Buenos Aires</td>\n",
       "      <td>76,08</td>\n",
       "    </tr>\n",
       "    <tr>\n",
       "      <th>1</th>\n",
       "      <td>2022</td>\n",
       "      <td>1</td>\n",
       "      <td>Capital Federal</td>\n",
       "      <td>111,8</td>\n",
       "    </tr>\n",
       "    <tr>\n",
       "      <th>2</th>\n",
       "      <td>2022</td>\n",
       "      <td>1</td>\n",
       "      <td>Catamarca</td>\n",
       "      <td>58,21</td>\n",
       "    </tr>\n",
       "    <tr>\n",
       "      <th>3</th>\n",
       "      <td>2022</td>\n",
       "      <td>1</td>\n",
       "      <td>Chaco</td>\n",
       "      <td>44,06</td>\n",
       "    </tr>\n",
       "    <tr>\n",
       "      <th>4</th>\n",
       "      <td>2022</td>\n",
       "      <td>1</td>\n",
       "      <td>Chubut</td>\n",
       "      <td>88,05</td>\n",
       "    </tr>\n",
       "  </tbody>\n",
       "</table>\n",
       "</div>"
      ],
      "text/plain": [
       "    Año  Trimestre        Provincia Accesos por cada 100 hogares\n",
       "0  2022          1     Buenos Aires                        76,08\n",
       "1  2022          1  Capital Federal                        111,8\n",
       "2  2022          1        Catamarca                        58,21\n",
       "3  2022          1            Chaco                        44,06\n",
       "4  2022          1           Chubut                        88,05"
      ]
     },
     "execution_count": 131,
     "metadata": {},
     "output_type": "execute_result"
    }
   ],
   "source": [
    "df_penetracion.head()"
   ]
  },
  {
   "cell_type": "code",
   "execution_count": 132,
   "metadata": {},
   "outputs": [
    {
     "data": {
      "text/html": [
       "<div>\n",
       "<style scoped>\n",
       "    .dataframe tbody tr th:only-of-type {\n",
       "        vertical-align: middle;\n",
       "    }\n",
       "\n",
       "    .dataframe tbody tr th {\n",
       "        vertical-align: top;\n",
       "    }\n",
       "\n",
       "    .dataframe thead th {\n",
       "        text-align: right;\n",
       "    }\n",
       "</style>\n",
       "<table border=\"1\" class=\"dataframe\">\n",
       "  <thead>\n",
       "    <tr style=\"text-align: right;\">\n",
       "      <th></th>\n",
       "      <th>Año</th>\n",
       "      <th>Trimestre</th>\n",
       "      <th>Provincia</th>\n",
       "      <th>ADSL</th>\n",
       "      <th>Cablemodem</th>\n",
       "      <th>Fibra óptica</th>\n",
       "      <th>Wireless</th>\n",
       "      <th>Otros</th>\n",
       "      <th>Total</th>\n",
       "    </tr>\n",
       "  </thead>\n",
       "  <tbody>\n",
       "    <tr>\n",
       "      <th>812</th>\n",
       "      <td>2014</td>\n",
       "      <td>1</td>\n",
       "      <td>Santa Fe</td>\n",
       "      <td>322.662</td>\n",
       "      <td>174.296</td>\n",
       "      <td>3.059</td>\n",
       "      <td>5.951</td>\n",
       "      <td>644.000</td>\n",
       "      <td>506.612</td>\n",
       "    </tr>\n",
       "    <tr>\n",
       "      <th>813</th>\n",
       "      <td>2014</td>\n",
       "      <td>1</td>\n",
       "      <td>Santiago Del Estero</td>\n",
       "      <td>32.567</td>\n",
       "      <td>3.598</td>\n",
       "      <td>19</td>\n",
       "      <td>915.000</td>\n",
       "      <td>34.000</td>\n",
       "      <td>37.133</td>\n",
       "    </tr>\n",
       "    <tr>\n",
       "      <th>814</th>\n",
       "      <td>2014</td>\n",
       "      <td>1</td>\n",
       "      <td>Tierra Del Fuego</td>\n",
       "      <td>21.618</td>\n",
       "      <td>2.837</td>\n",
       "      <td>648</td>\n",
       "      <td>1.000</td>\n",
       "      <td>2.934</td>\n",
       "      <td>28.038</td>\n",
       "    </tr>\n",
       "    <tr>\n",
       "      <th>815</th>\n",
       "      <td>2014</td>\n",
       "      <td>1</td>\n",
       "      <td>Tucumán</td>\n",
       "      <td>129.717</td>\n",
       "      <td>83</td>\n",
       "      <td>121</td>\n",
       "      <td>13.000</td>\n",
       "      <td>98.000</td>\n",
       "      <td>130.032</td>\n",
       "    </tr>\n",
       "    <tr>\n",
       "      <th>816</th>\n",
       "      <td>*</td>\n",
       "      <td>Los datos provinciales no coinciden a nivel na...</td>\n",
       "      <td>NaN</td>\n",
       "      <td>NaN</td>\n",
       "      <td>NaN</td>\n",
       "      <td>NaN</td>\n",
       "      <td>NaN</td>\n",
       "      <td>NaN</td>\n",
       "      <td>NaN</td>\n",
       "    </tr>\n",
       "  </tbody>\n",
       "</table>\n",
       "</div>"
      ],
      "text/plain": [
       "      Año                                          Trimestre  \\\n",
       "812  2014                                                  1   \n",
       "813  2014                                                  1   \n",
       "814  2014                                                  1   \n",
       "815  2014                                                  1   \n",
       "816     *  Los datos provinciales no coinciden a nivel na...   \n",
       "\n",
       "               Provincia     ADSL Cablemodem Fibra óptica  Wireless    Otros  \\\n",
       "812             Santa Fe  322.662    174.296        3.059     5.951  644.000   \n",
       "813  Santiago Del Estero   32.567      3.598           19   915.000   34.000   \n",
       "814     Tierra Del Fuego   21.618      2.837          648     1.000    2.934   \n",
       "815              Tucumán  129.717         83          121    13.000   98.000   \n",
       "816                  NaN      NaN        NaN          NaN       NaN      NaN   \n",
       "\n",
       "       Total  \n",
       "812  506.612  \n",
       "813   37.133  \n",
       "814   28.038  \n",
       "815  130.032  \n",
       "816      NaN  "
      ]
     },
     "execution_count": 132,
     "metadata": {},
     "output_type": "execute_result"
    }
   ],
   "source": [
    "df_tecnologias.tail()\n",
    "# La fila 816 debe ser eliminada"
   ]
  },
  {
   "cell_type": "code",
   "execution_count": 133,
   "metadata": {},
   "outputs": [
    {
     "data": {
      "text/plain": [
       "Index(['Año', 'Trimestre', 'Provincia', 'ADSL', 'Cablemodem', 'Fibra óptica',\n",
       "       'Wireless', 'Otros', 'Total'],\n",
       "      dtype='object')"
      ]
     },
     "execution_count": 133,
     "metadata": {},
     "output_type": "execute_result"
    }
   ],
   "source": [
    "#Revisión de columnas\n",
    "df_tecnologias.columns"
   ]
  },
  {
   "cell_type": "code",
   "execution_count": 134,
   "metadata": {},
   "outputs": [
    {
     "data": {
      "text/plain": [
       "Index(['Año', 'Trimestre', 'Provincia', 'Accesos por cada 100 hogares'], dtype='object')"
      ]
     },
     "execution_count": 134,
     "metadata": {},
     "output_type": "execute_result"
    }
   ],
   "source": [
    "#Revisión de columnas\n",
    "df_penetracion.columns"
   ]
  },
  {
   "cell_type": "code",
   "execution_count": 135,
   "metadata": {},
   "outputs": [
    {
     "data": {
      "text/plain": [
       "Año              object\n",
       "Trimestre        object\n",
       "Provincia        object\n",
       "ADSL             object\n",
       "Cablemodem       object\n",
       "Fibra óptica     object\n",
       "Wireless        float64\n",
       "Otros           float64\n",
       "Total            object\n",
       "dtype: object"
      ]
     },
     "execution_count": 135,
     "metadata": {},
     "output_type": "execute_result"
    }
   ],
   "source": [
    "#Revisión de tipo de datos\n",
    "df_tecnologias.dtypes"
   ]
  },
  {
   "cell_type": "code",
   "execution_count": 136,
   "metadata": {},
   "outputs": [
    {
     "data": {
      "text/plain": [
       "Año                              int64\n",
       "Trimestre                        int64\n",
       "Provincia                       object\n",
       "Accesos por cada 100 hogares    object\n",
       "dtype: object"
      ]
     },
     "execution_count": 136,
     "metadata": {},
     "output_type": "execute_result"
    }
   ],
   "source": [
    "#Revisión de tipo de datos\n",
    "df_penetracion.dtypes"
   ]
  },
  {
   "attachments": {},
   "cell_type": "markdown",
   "metadata": {},
   "source": [
    "### Step3. Data Preparation\n",
    "1.Dropping irrelevant columns and rows\n",
    "\n",
    "2.Identify duplicated columns\n",
    "\n",
    "3.Renamming Columns\n",
    "\n",
    "4.Feature Creation"
   ]
  },
  {
   "cell_type": "code",
   "execution_count": 137,
   "metadata": {},
   "outputs": [
    {
     "data": {
      "text/html": [
       "<div>\n",
       "<style scoped>\n",
       "    .dataframe tbody tr th:only-of-type {\n",
       "        vertical-align: middle;\n",
       "    }\n",
       "\n",
       "    .dataframe tbody tr th {\n",
       "        vertical-align: top;\n",
       "    }\n",
       "\n",
       "    .dataframe thead th {\n",
       "        text-align: right;\n",
       "    }\n",
       "</style>\n",
       "<table border=\"1\" class=\"dataframe\">\n",
       "  <thead>\n",
       "    <tr style=\"text-align: right;\">\n",
       "      <th></th>\n",
       "      <th>Año</th>\n",
       "      <th>Trimestre</th>\n",
       "      <th>Provincia</th>\n",
       "      <th>ADSL</th>\n",
       "      <th>Cablemodem</th>\n",
       "      <th>Fibra óptica</th>\n",
       "      <th>Wireless</th>\n",
       "      <th>Otros</th>\n",
       "      <th>Total</th>\n",
       "    </tr>\n",
       "  </thead>\n",
       "  <tbody>\n",
       "    <tr>\n",
       "      <th>0</th>\n",
       "      <td>2022</td>\n",
       "      <td>2</td>\n",
       "      <td>Buenos Aires</td>\n",
       "      <td>350.652</td>\n",
       "      <td>2.719.613</td>\n",
       "      <td>1.399.043</td>\n",
       "      <td>126.847</td>\n",
       "      <td>71.028</td>\n",
       "      <td>4.667.183</td>\n",
       "    </tr>\n",
       "    <tr>\n",
       "      <th>1</th>\n",
       "      <td>2022</td>\n",
       "      <td>2</td>\n",
       "      <td>Capital Federal</td>\n",
       "      <td>145.491</td>\n",
       "      <td>1.232.226</td>\n",
       "      <td>121.506</td>\n",
       "      <td>5.757</td>\n",
       "      <td>31.791</td>\n",
       "      <td>1.536.771</td>\n",
       "    </tr>\n",
       "    <tr>\n",
       "      <th>2</th>\n",
       "      <td>2022</td>\n",
       "      <td>2</td>\n",
       "      <td>Catamarca</td>\n",
       "      <td>11.928</td>\n",
       "      <td>9.430</td>\n",
       "      <td>42.087</td>\n",
       "      <td>1.329</td>\n",
       "      <td>2.234</td>\n",
       "      <td>67.008</td>\n",
       "    </tr>\n",
       "    <tr>\n",
       "      <th>3</th>\n",
       "      <td>2022</td>\n",
       "      <td>2</td>\n",
       "      <td>Chaco</td>\n",
       "      <td>29.552</td>\n",
       "      <td>61.284</td>\n",
       "      <td>42.194</td>\n",
       "      <td>8.178</td>\n",
       "      <td>2.356</td>\n",
       "      <td>143.564</td>\n",
       "    </tr>\n",
       "    <tr>\n",
       "      <th>4</th>\n",
       "      <td>2022</td>\n",
       "      <td>2</td>\n",
       "      <td>Chubut</td>\n",
       "      <td>45.377</td>\n",
       "      <td>69.242</td>\n",
       "      <td>9.574</td>\n",
       "      <td>29.784</td>\n",
       "      <td>8.828</td>\n",
       "      <td>162.805</td>\n",
       "    </tr>\n",
       "    <tr>\n",
       "      <th>...</th>\n",
       "      <td>...</td>\n",
       "      <td>...</td>\n",
       "      <td>...</td>\n",
       "      <td>...</td>\n",
       "      <td>...</td>\n",
       "      <td>...</td>\n",
       "      <td>...</td>\n",
       "      <td>...</td>\n",
       "      <td>...</td>\n",
       "    </tr>\n",
       "    <tr>\n",
       "      <th>811</th>\n",
       "      <td>2014</td>\n",
       "      <td>1</td>\n",
       "      <td>Santa Cruz</td>\n",
       "      <td>18.927</td>\n",
       "      <td>100</td>\n",
       "      <td>381</td>\n",
       "      <td>4.092</td>\n",
       "      <td>3.264</td>\n",
       "      <td>26.764</td>\n",
       "    </tr>\n",
       "    <tr>\n",
       "      <th>812</th>\n",
       "      <td>2014</td>\n",
       "      <td>1</td>\n",
       "      <td>Santa Fe</td>\n",
       "      <td>322.662</td>\n",
       "      <td>174.296</td>\n",
       "      <td>3.059</td>\n",
       "      <td>5.951</td>\n",
       "      <td>644.000</td>\n",
       "      <td>506.612</td>\n",
       "    </tr>\n",
       "    <tr>\n",
       "      <th>813</th>\n",
       "      <td>2014</td>\n",
       "      <td>1</td>\n",
       "      <td>Santiago Del Estero</td>\n",
       "      <td>32.567</td>\n",
       "      <td>3.598</td>\n",
       "      <td>19</td>\n",
       "      <td>915.000</td>\n",
       "      <td>34.000</td>\n",
       "      <td>37.133</td>\n",
       "    </tr>\n",
       "    <tr>\n",
       "      <th>814</th>\n",
       "      <td>2014</td>\n",
       "      <td>1</td>\n",
       "      <td>Tierra Del Fuego</td>\n",
       "      <td>21.618</td>\n",
       "      <td>2.837</td>\n",
       "      <td>648</td>\n",
       "      <td>1.000</td>\n",
       "      <td>2.934</td>\n",
       "      <td>28.038</td>\n",
       "    </tr>\n",
       "    <tr>\n",
       "      <th>815</th>\n",
       "      <td>2014</td>\n",
       "      <td>1</td>\n",
       "      <td>Tucumán</td>\n",
       "      <td>129.717</td>\n",
       "      <td>83</td>\n",
       "      <td>121</td>\n",
       "      <td>13.000</td>\n",
       "      <td>98.000</td>\n",
       "      <td>130.032</td>\n",
       "    </tr>\n",
       "  </tbody>\n",
       "</table>\n",
       "<p>816 rows × 9 columns</p>\n",
       "</div>"
      ],
      "text/plain": [
       "      Año Trimestre            Provincia     ADSL Cablemodem Fibra óptica  \\\n",
       "0    2022         2         Buenos Aires  350.652  2.719.613    1.399.043   \n",
       "1    2022         2      Capital Federal  145.491  1.232.226      121.506   \n",
       "2    2022         2            Catamarca   11.928      9.430       42.087   \n",
       "3    2022         2                Chaco   29.552     61.284       42.194   \n",
       "4    2022         2               Chubut   45.377     69.242        9.574   \n",
       "..    ...       ...                  ...      ...        ...          ...   \n",
       "811  2014         1           Santa Cruz   18.927        100          381   \n",
       "812  2014         1             Santa Fe  322.662    174.296        3.059   \n",
       "813  2014         1  Santiago Del Estero   32.567      3.598           19   \n",
       "814  2014         1     Tierra Del Fuego   21.618      2.837          648   \n",
       "815  2014         1              Tucumán  129.717         83          121   \n",
       "\n",
       "     Wireless    Otros      Total  \n",
       "0     126.847   71.028  4.667.183  \n",
       "1       5.757   31.791  1.536.771  \n",
       "2       1.329    2.234     67.008  \n",
       "3       8.178    2.356    143.564  \n",
       "4      29.784    8.828    162.805  \n",
       "..        ...      ...        ...  \n",
       "811     4.092    3.264     26.764  \n",
       "812     5.951  644.000    506.612  \n",
       "813   915.000   34.000     37.133  \n",
       "814     1.000    2.934     28.038  \n",
       "815    13.000   98.000    130.032  \n",
       "\n",
       "[816 rows x 9 columns]"
      ]
     },
     "execution_count": 137,
     "metadata": {},
     "output_type": "execute_result"
    }
   ],
   "source": [
    "#Eliminar la fila 816\n",
    "df_tecnologias.drop(816, inplace=True)\n",
    "df_tecnologias"
   ]
  },
  {
   "cell_type": "code",
   "execution_count": 138,
   "metadata": {},
   "outputs": [
    {
     "data": {
      "text/plain": [
       "Año              object\n",
       "Trimestre        object\n",
       "Provincia        object\n",
       "ADSL             object\n",
       "Cablemodem       object\n",
       "Fibra óptica     object\n",
       "Wireless        float64\n",
       "Otros           float64\n",
       "Total            object\n",
       "dtype: object"
      ]
     },
     "execution_count": 138,
     "metadata": {},
     "output_type": "execute_result"
    }
   ],
   "source": [
    "# Verifica el tipo de datos de las columnas y elimina espacios en los nombres\n",
    "df_tecnologias.columns = df_tecnologias.columns.str.strip()\n",
    "df_tecnologias.dtypes"
   ]
  },
  {
   "cell_type": "code",
   "execution_count": 139,
   "metadata": {},
   "outputs": [],
   "source": [
    "#Esta funcion fue necesaria para corregir el problema de los decimales. en Cablemodem, Fibraoptica y Total\n",
    "def convert_decimal_separator(value):\n",
    "    if isinstance(value, str) and '.' in value:\n",
    "        parts = value.split('.')\n",
    "        if len(parts) == 3:\n",
    "            integer_part = int(parts[0]) * 1000 + int(parts[1])\n",
    "            decimal_part = float('.' + parts[2])\n",
    "            return f'{integer_part + decimal_part:.3f}'\n",
    "        elif len(parts) == 2:\n",
    "            integer_part = int(parts[0])\n",
    "            decimal_part = float('.' + parts[1])\n",
    "            return f'{integer_part + decimal_part:.3f}'\n",
    "    return value"
   ]
  },
  {
   "cell_type": "code",
   "execution_count": 140,
   "metadata": {},
   "outputs": [],
   "source": [
    "filtro = df_tecnologias['Cablemodem'].notna() & df_tecnologias['Cablemodem'].str.contains('\\.\\d{3}\\.\\d{3}')\n",
    "df_tecnologias.loc[filtro, 'Cablemodem'] = df_tecnologias.loc[filtro, 'Cablemodem'].dropna().apply(convert_decimal_separator).astype(float)"
   ]
  },
  {
   "cell_type": "code",
   "execution_count": 141,
   "metadata": {},
   "outputs": [],
   "source": [
    "filtro = df_tecnologias['Fibra óptica'].notna() & df_tecnologias['Fibra óptica'].str.contains('\\.\\d{3}\\.\\d{3}')\n",
    "df_tecnologias.loc[filtro, 'Fibra óptica'] = df_tecnologias.loc[filtro, 'Fibra óptica'].dropna().apply(convert_decimal_separator).astype(float)"
   ]
  },
  {
   "cell_type": "code",
   "execution_count": 142,
   "metadata": {},
   "outputs": [],
   "source": [
    "filtro = df_tecnologias['Total'].notna() & df_tecnologias['Total'].str.contains('\\.\\d{3}\\.\\d{3}')\n",
    "df_tecnologias.loc[filtro, 'Total'] = df_tecnologias.loc[filtro, 'Total'].dropna().apply(convert_decimal_separator).astype(float)"
   ]
  },
  {
   "cell_type": "code",
   "execution_count": 162,
   "metadata": {},
   "outputs": [
    {
     "data": {
      "text/html": [
       "<div>\n",
       "<style scoped>\n",
       "    .dataframe tbody tr th:only-of-type {\n",
       "        vertical-align: middle;\n",
       "    }\n",
       "\n",
       "    .dataframe tbody tr th {\n",
       "        vertical-align: top;\n",
       "    }\n",
       "\n",
       "    .dataframe thead th {\n",
       "        text-align: right;\n",
       "    }\n",
       "</style>\n",
       "<table border=\"1\" class=\"dataframe\">\n",
       "  <thead>\n",
       "    <tr style=\"text-align: right;\">\n",
       "      <th></th>\n",
       "      <th>Año</th>\n",
       "      <th>Trimestre</th>\n",
       "      <th>Provincia</th>\n",
       "      <th>ADSL</th>\n",
       "      <th>Cablemodem</th>\n",
       "      <th>Fibra óptica</th>\n",
       "      <th>Wireless</th>\n",
       "      <th>Otros</th>\n",
       "      <th>Total</th>\n",
       "    </tr>\n",
       "  </thead>\n",
       "  <tbody>\n",
       "    <tr>\n",
       "      <th>0</th>\n",
       "      <td>2022</td>\n",
       "      <td>2</td>\n",
       "      <td>Buenos Aires</td>\n",
       "      <td>350.652</td>\n",
       "      <td>2719.613</td>\n",
       "      <td>1399.043</td>\n",
       "      <td>126.847</td>\n",
       "      <td>71.028</td>\n",
       "      <td>4667.183</td>\n",
       "    </tr>\n",
       "    <tr>\n",
       "      <th>1</th>\n",
       "      <td>2022</td>\n",
       "      <td>2</td>\n",
       "      <td>Capital Federal</td>\n",
       "      <td>145.491</td>\n",
       "      <td>1232.226</td>\n",
       "      <td>121.506</td>\n",
       "      <td>5.757</td>\n",
       "      <td>31.791</td>\n",
       "      <td>1536.771</td>\n",
       "    </tr>\n",
       "    <tr>\n",
       "      <th>2</th>\n",
       "      <td>2022</td>\n",
       "      <td>2</td>\n",
       "      <td>Catamarca</td>\n",
       "      <td>11.928</td>\n",
       "      <td>9.430</td>\n",
       "      <td>42.087</td>\n",
       "      <td>1.329</td>\n",
       "      <td>2.234</td>\n",
       "      <td>67.008</td>\n",
       "    </tr>\n",
       "    <tr>\n",
       "      <th>3</th>\n",
       "      <td>2022</td>\n",
       "      <td>2</td>\n",
       "      <td>Chaco</td>\n",
       "      <td>29.552</td>\n",
       "      <td>61.284</td>\n",
       "      <td>42.194</td>\n",
       "      <td>8.178</td>\n",
       "      <td>2.356</td>\n",
       "      <td>143.564</td>\n",
       "    </tr>\n",
       "    <tr>\n",
       "      <th>4</th>\n",
       "      <td>2022</td>\n",
       "      <td>2</td>\n",
       "      <td>Chubut</td>\n",
       "      <td>45.377</td>\n",
       "      <td>69.242</td>\n",
       "      <td>9.574</td>\n",
       "      <td>29.784</td>\n",
       "      <td>8.828</td>\n",
       "      <td>162.805</td>\n",
       "    </tr>\n",
       "    <tr>\n",
       "      <th>...</th>\n",
       "      <td>...</td>\n",
       "      <td>...</td>\n",
       "      <td>...</td>\n",
       "      <td>...</td>\n",
       "      <td>...</td>\n",
       "      <td>...</td>\n",
       "      <td>...</td>\n",
       "      <td>...</td>\n",
       "      <td>...</td>\n",
       "    </tr>\n",
       "    <tr>\n",
       "      <th>811</th>\n",
       "      <td>2014</td>\n",
       "      <td>1</td>\n",
       "      <td>Santa Cruz</td>\n",
       "      <td>18.927</td>\n",
       "      <td>100</td>\n",
       "      <td>381</td>\n",
       "      <td>4.092</td>\n",
       "      <td>3.264</td>\n",
       "      <td>26.764</td>\n",
       "    </tr>\n",
       "    <tr>\n",
       "      <th>812</th>\n",
       "      <td>2014</td>\n",
       "      <td>1</td>\n",
       "      <td>Santa Fe</td>\n",
       "      <td>322.662</td>\n",
       "      <td>174.296</td>\n",
       "      <td>3.059</td>\n",
       "      <td>5.951</td>\n",
       "      <td>644.000</td>\n",
       "      <td>506.612</td>\n",
       "    </tr>\n",
       "    <tr>\n",
       "      <th>813</th>\n",
       "      <td>2014</td>\n",
       "      <td>1</td>\n",
       "      <td>Santiago Del Estero</td>\n",
       "      <td>32.567</td>\n",
       "      <td>3.598</td>\n",
       "      <td>19</td>\n",
       "      <td>915.000</td>\n",
       "      <td>34.000</td>\n",
       "      <td>37.133</td>\n",
       "    </tr>\n",
       "    <tr>\n",
       "      <th>814</th>\n",
       "      <td>2014</td>\n",
       "      <td>1</td>\n",
       "      <td>Tierra Del Fuego</td>\n",
       "      <td>21.618</td>\n",
       "      <td>2.837</td>\n",
       "      <td>648</td>\n",
       "      <td>1.000</td>\n",
       "      <td>2.934</td>\n",
       "      <td>28.038</td>\n",
       "    </tr>\n",
       "    <tr>\n",
       "      <th>815</th>\n",
       "      <td>2014</td>\n",
       "      <td>1</td>\n",
       "      <td>Tucumán</td>\n",
       "      <td>129.717</td>\n",
       "      <td>83</td>\n",
       "      <td>121</td>\n",
       "      <td>13.000</td>\n",
       "      <td>98.000</td>\n",
       "      <td>130.032</td>\n",
       "    </tr>\n",
       "  </tbody>\n",
       "</table>\n",
       "<p>816 rows × 9 columns</p>\n",
       "</div>"
      ],
      "text/plain": [
       "      Año Trimestre            Provincia     ADSL Cablemodem Fibra óptica  \\\n",
       "0    2022         2         Buenos Aires  350.652   2719.613     1399.043   \n",
       "1    2022         2      Capital Federal  145.491   1232.226      121.506   \n",
       "2    2022         2            Catamarca   11.928      9.430       42.087   \n",
       "3    2022         2                Chaco   29.552     61.284       42.194   \n",
       "4    2022         2               Chubut   45.377     69.242        9.574   \n",
       "..    ...       ...                  ...      ...        ...          ...   \n",
       "811  2014         1           Santa Cruz   18.927        100          381   \n",
       "812  2014         1             Santa Fe  322.662    174.296        3.059   \n",
       "813  2014         1  Santiago Del Estero   32.567      3.598           19   \n",
       "814  2014         1     Tierra Del Fuego   21.618      2.837          648   \n",
       "815  2014         1              Tucumán  129.717         83          121   \n",
       "\n",
       "     Wireless    Otros     Total  \n",
       "0     126.847   71.028  4667.183  \n",
       "1       5.757   31.791  1536.771  \n",
       "2       1.329    2.234    67.008  \n",
       "3       8.178    2.356   143.564  \n",
       "4      29.784    8.828   162.805  \n",
       "..        ...      ...       ...  \n",
       "811     4.092    3.264    26.764  \n",
       "812     5.951  644.000   506.612  \n",
       "813   915.000   34.000    37.133  \n",
       "814     1.000    2.934    28.038  \n",
       "815    13.000   98.000   130.032  \n",
       "\n",
       "[816 rows x 9 columns]"
      ]
     },
     "execution_count": 162,
     "metadata": {},
     "output_type": "execute_result"
    }
   ],
   "source": [
    "df_tecnologias"
   ]
  },
  {
   "cell_type": "code",
   "execution_count": 144,
   "metadata": {},
   "outputs": [
    {
     "data": {
      "text/plain": [
       "Año                             0\n",
       "Trimestre                       0\n",
       "Provincia                       0\n",
       "Accesos por cada 100 hogares    0\n",
       "dtype: int64"
      ]
     },
     "execution_count": 144,
     "metadata": {},
     "output_type": "execute_result"
    }
   ],
   "source": [
    "# Revisar datos faltantes por columna\n",
    "df_penetracion.isna().sum()"
   ]
  },
  {
   "cell_type": "code",
   "execution_count": 145,
   "metadata": {},
   "outputs": [
    {
     "data": {
      "text/plain": [
       "Año             0\n",
       "Trimestre       0\n",
       "Provincia       0\n",
       "ADSL            0\n",
       "Cablemodem      0\n",
       "Fibra óptica    0\n",
       "Wireless        0\n",
       "Otros           0\n",
       "Total           0\n",
       "dtype: int64"
      ]
     },
     "execution_count": 145,
     "metadata": {},
     "output_type": "execute_result"
    }
   ],
   "source": [
    "# Revisar datos faltantes por columna\n",
    "df_tecnologias.isna().sum()"
   ]
  },
  {
   "cell_type": "code",
   "execution_count": 146,
   "metadata": {},
   "outputs": [
    {
     "name": "stdout",
     "output_type": "stream",
     "text": [
      "['2022' '2021' '2020' '2019' '2019 *' '2018' '2017' '2016' '2015' '2014']\n"
     ]
    }
   ],
   "source": [
    "# Revisión de valores únicos en año\n",
    "print(df_tecnologias['Año'].unique())\n",
    "\n",
    "# Se encontró \"2019 *\" "
   ]
  },
  {
   "cell_type": "code",
   "execution_count": 147,
   "metadata": {},
   "outputs": [
    {
     "data": {
      "text/plain": [
       "2021    96\n",
       "2020    96\n",
       "2019    96\n",
       "2018    96\n",
       "2017    96\n",
       "2016    96\n",
       "2015    96\n",
       "2014    96\n",
       "2022    48\n",
       "Name: Año, dtype: int64"
      ]
     },
     "execution_count": 147,
     "metadata": {},
     "output_type": "execute_result"
    }
   ],
   "source": [
    "# Corrección de la columna año\n",
    "df_tecnologias['Año'] = df_tecnologias['Año'].replace('2019 *', '2019')\n",
    "df_tecnologias['Año'].value_counts()"
   ]
  },
  {
   "cell_type": "code",
   "execution_count": 148,
   "metadata": {},
   "outputs": [
    {
     "name": "stdout",
     "output_type": "stream",
     "text": [
      "['2' '1' '4' '3' '3 *' '2 *' '1 *']\n"
     ]
    }
   ],
   "source": [
    "#Revisión de valores únicos para Trimestre\n",
    "print(df_tecnologias['Trimestre'].unique())\n",
    "\n",
    "# Se encontró '3 *' '2 *' '1 *'"
   ]
  },
  {
   "cell_type": "code",
   "execution_count": 149,
   "metadata": {},
   "outputs": [],
   "source": [
    "# Corregir valores en la columna Trimestre\n",
    "df_tecnologias['Trimestre'] = df_tecnologias['Trimestre'].replace('3 *', '3')\n",
    "df_tecnologias['Trimestre'] = df_tecnologias['Trimestre'].replace('2 *', '2')\n",
    "df_tecnologias['Trimestre'] = df_tecnologias['Trimestre'].replace('1 *', '1')"
   ]
  },
  {
   "cell_type": "code",
   "execution_count": 150,
   "metadata": {},
   "outputs": [
    {
     "name": "stdout",
     "output_type": "stream",
     "text": [
      "['Buenos Aires' 'Capital Federal' 'Catamarca' 'Chaco' 'Chubut' 'Córdoba'\n",
      " 'Corrientes' 'Entre Ríos' 'Formosa' 'Jujuy' 'La Pampa' 'La Rioja'\n",
      " 'Mendoza' 'Misiones' 'Neuquén' 'Río Negro' 'Salta' 'San Juan' 'San Luis'\n",
      " 'Santa Cruz' 'Santa Fe' 'Santiago Del Estero' 'Tierra Del Fuego'\n",
      " 'Tucumán']\n"
     ]
    }
   ],
   "source": [
    "#Revisión de valores únicos en Provincia\n",
    "print(df_tecnologias['Provincia'].unique())"
   ]
  },
  {
   "cell_type": "code",
   "execution_count": 151,
   "metadata": {},
   "outputs": [
    {
     "name": "stdout",
     "output_type": "stream",
     "text": [
      "<class 'pandas.core.frame.DataFrame'>\n",
      "RangeIndex: 816 entries, 0 to 815\n",
      "Data columns (total 9 columns):\n",
      " #   Column        Non-Null Count  Dtype  \n",
      "---  ------        --------------  -----  \n",
      " 0   Año           816 non-null    object \n",
      " 1   Trimestre     816 non-null    object \n",
      " 2   Provincia     816 non-null    object \n",
      " 3   ADSL          816 non-null    object \n",
      " 4   Cablemodem    816 non-null    object \n",
      " 5   Fibra óptica  816 non-null    object \n",
      " 6   Wireless      816 non-null    float64\n",
      " 7   Otros         816 non-null    float64\n",
      " 8   Total         816 non-null    object \n",
      "dtypes: float64(2), object(7)\n",
      "memory usage: 57.5+ KB\n"
     ]
    }
   ],
   "source": [
    "df_tecnologias.info()"
   ]
  },
  {
   "cell_type": "code",
   "execution_count": 152,
   "metadata": {},
   "outputs": [
    {
     "name": "stdout",
     "output_type": "stream",
     "text": [
      "<class 'pandas.core.frame.DataFrame'>\n",
      "RangeIndex: 792 entries, 0 to 791\n",
      "Data columns (total 4 columns):\n",
      " #   Column                        Non-Null Count  Dtype \n",
      "---  ------                        --------------  ----- \n",
      " 0   Año                           792 non-null    int64 \n",
      " 1   Trimestre                     792 non-null    int64 \n",
      " 2   Provincia                     792 non-null    object\n",
      " 3   Accesos por cada 100 hogares  792 non-null    object\n",
      "dtypes: int64(2), object(2)\n",
      "memory usage: 24.9+ KB\n"
     ]
    }
   ],
   "source": [
    "df_penetracion.info()"
   ]
  },
  {
   "cell_type": "code",
   "execution_count": 153,
   "metadata": {},
   "outputs": [
    {
     "name": "stdout",
     "output_type": "stream",
     "text": [
      "[2022 2021 2020 2019 2018 2017 2016 2015 2014]\n"
     ]
    }
   ],
   "source": [
    "# Revisión de valores únicos en año\n",
    "print(df_penetracion['Año'].unique())"
   ]
  },
  {
   "cell_type": "code",
   "execution_count": 154,
   "metadata": {},
   "outputs": [
    {
     "name": "stdout",
     "output_type": "stream",
     "text": [
      "[1 4 3 2]\n"
     ]
    }
   ],
   "source": [
    "# Revisión de valores únicos en Trimestre\n",
    "print(df_penetracion['Trimestre'].unique())"
   ]
  },
  {
   "cell_type": "code",
   "execution_count": 155,
   "metadata": {},
   "outputs": [
    {
     "name": "stdout",
     "output_type": "stream",
     "text": [
      "['Buenos Aires' 'Capital Federal' 'Catamarca' 'Chaco' 'Chubut' 'Córdoba'\n",
      " 'Corrientes' 'Entre Ríos' 'Formosa' 'Jujuy' 'La Pampa' 'La Rioja'\n",
      " 'Mendoza' 'Misiones' 'Neuquén' 'Río Negro' 'Salta' 'San Juan' 'San Luis'\n",
      " 'Santa Cruz' 'Santa Fe' 'Santiago Del Estero' 'Tierra Del Fuego'\n",
      " 'Tucumán']\n"
     ]
    }
   ],
   "source": [
    "# Revisión de valores únicos en Provincia\n",
    "print(df_penetracion['Provincia'].unique())"
   ]
  },
  {
   "attachments": {},
   "cell_type": "markdown",
   "metadata": {},
   "source": [
    "### Step 4: Feature Understanding\n",
    "Ploting Feature Distribution"
   ]
  },
  {
   "cell_type": "code",
   "execution_count": 156,
   "metadata": {},
   "outputs": [
    {
     "name": "stderr",
     "output_type": "stream",
     "text": [
      "C:\\Users\\Angel Zavaleta\\AppData\\Local\\Temp\\ipykernel_6836\\1236707049.py:2: FutureWarning: The default value of numeric_only in DataFrameGroupBy.sum is deprecated. In a future version, numeric_only will default to False. Either specify numeric_only or select only columns which should be valid for the function.\n",
      "  datos_grafica = df_tecnologias.groupby(['Año', 'Trimestre']).sum()\n"
     ]
    },
    {
     "data": {
      "image/png": "[encoded data removed]",
      "text/plain": [
       "<Figure size 640x480 with 1 Axes>"
      ]
     },
     "metadata": {},
     "output_type": "display_data"
    }
   ],
   "source": [
    "# Agrupar los datos por año y trimestre, y sumar por tecnología\n",
    "datos_grafica = df_tecnologias.groupby(['Año', 'Trimestre']).sum()\n",
    "\n",
    "# Crear un gráfico de barras apiladas\n",
    "datos_grafica.plot(kind='bar', stacked=True)\n",
    "\n",
    "# Agregar título y etiquetas de eje\n",
    "plt.title('Distribución de conexiones de internet por tecnología')\n",
    "plt.xlabel('Año y trimestre')\n",
    "plt.ylabel('Cantidad de conexiones')\n",
    "\n",
    "# Mostrar el gráfico\n",
    "plt.show()"
   ]
  },
  {
   "cell_type": "code",
   "execution_count": 157,
   "metadata": {},
   "outputs": [
    {
     "name": "stderr",
     "output_type": "stream",
     "text": [
      "C:\\Users\\Angel Zavaleta\\AppData\\Local\\Temp\\ipykernel_6836\\2179804545.py:2: FutureWarning: The default value of numeric_only in DataFrameGroupBy.sum is deprecated. In a future version, numeric_only will default to False. Either specify numeric_only or select only columns which should be valid for the function.\n",
      "  datos_grafica2 = df_tecnologias.groupby(['Provincia']).sum()\n"
     ]
    },
    {
     "data": {
      "image/png": "[encoded data removed]",
      "text/plain": [
       "<Figure size 1000x600 with 1 Axes>"
      ]
     },
     "metadata": {},
     "output_type": "display_data"
    }
   ],
   "source": [
    "# Agrupar los datos por provincia y sumar por año y trimestre\n",
    "datos_grafica2 = df_tecnologias.groupby(['Provincia']).sum()\n",
    "\n",
    "# Crear un gráfico de líneas\n",
    "fig, ax = plt.subplots(figsize=(10, 6))\n",
    "datos_grafica2.plot(ax=ax)\n",
    "\n",
    "# Agregar título y etiquetas de eje\n",
    "ax.set_title('Evolución de conexiones de internet por provincia')\n",
    "ax.set_xlabel('Año y trimestre')\n",
    "ax.set_ylabel('Cantidad de conexiones')\n",
    "\n",
    "# Mostrar el gráfico\n",
    "plt.show()"
   ]
  },
  {
   "cell_type": "code",
   "execution_count": 161,
   "metadata": {},
   "outputs": [],
   "source": [
    "# Export the df_tecnologias dataset to a new CSV file with a different name\n",
    "df_tecnologias.to_csv('CleanData/tecnologias_ar.csv', index=False)"
   ]
  },
  {
   "cell_type": "code",
   "execution_count": 160,
   "metadata": {},
   "outputs": [],
   "source": [
    "# Export the df_tecnologias dataset to a new CSV file with a different name\n",
    "df_penetracion.to_csv('CleanData/internet100_ar.csv', index=False)"
   ]
  }
 ],
 "metadata": {
  "kernelspec": {
   "display_name": "Python 3",
   "language": "python",
   "name": "python3"
  },
  "language_info": {
   "codemirror_mode": {
    "name": "ipython",
    "version": 3
   },
   "file_extension": ".py",
   "mimetype": "text/x-python",
   "name": "python",
   "nbconvert_exporter": "python",
   "pygments_lexer": "ipython3",
   "version": "3.10.8"
  },
  "orig_nbformat": 4
 },
 "nbformat": 4,
 "nbformat_minor": 2
}
